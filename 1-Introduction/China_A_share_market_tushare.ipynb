{
 "cells": [
  {
   "cell_type": "markdown",
   "id": "-G6H6HsRTFLn",
   "metadata": {
    "id": "-G6H6HsRTFLn"
   },
   "source": [
    "<a target=\"_blank\" href=\"https://colab.research.google.com/github/AI4Finance-Foundation/FinRL-Tutorials/blob/master/1-Introduction/China_A_share_market_tushare.ipynb\">\n",
    "  <img src=\"https://colab.research.google.com/assets/colab-badge.svg\" alt=\"Open In Colab\"/>\n",
    "</a>"
   ]
  },
  {
   "cell_type": "markdown",
   "id": "3ShYRMdBTFLp",
   "metadata": {
    "id": "3ShYRMdBTFLp"
   },
   "source": [
    "## Quantitative trading in China A stock market with FinRL"
   ]
  },
  {
   "cell_type": "markdown",
   "id": "pBU3DdPFTFLp",
   "metadata": {
    "id": "pBU3DdPFTFLp"
   },
   "source": [
    "Install FinRL"
   ]
  },
  {
   "cell_type": "markdown",
   "id": "9ZmuaPTCTFLr",
   "metadata": {
    "id": "9ZmuaPTCTFLr"
   },
   "source": [
    "Install other libraries"
   ]
  },
  {
   "cell_type": "code",
   "execution_count": 1,
   "id": "q6T3o9yTTFLr",
   "metadata": {
    "id": "q6T3o9yTTFLr"
   },
   "outputs": [
    {
     "name": "stdout",
     "output_type": "stream",
     "text": [
      "Looking in indexes: https://mirrors.tuna.tsinghua.edu.cn/pypi/web/simple\n",
      "Requirement already satisfied: stockstats in d:\\0awork\\envs\\finrl\\lib\\site-packages (0.5.4)\n",
      "Requirement already satisfied: pandas>=0.24.2 in d:\\0awork\\envs\\finrl\\lib\\site-packages (from stockstats) (2.2.3)\n",
      "Requirement already satisfied: numpy>=1.23.2 in d:\\0awork\\envs\\finrl\\lib\\site-packages (from pandas>=0.24.2->stockstats) (2.2.6)\n",
      "Requirement already satisfied: python-dateutil>=2.8.2 in d:\\0awork\\envs\\finrl\\lib\\site-packages (from pandas>=0.24.2->stockstats) (2.9.0.post0)\n",
      "Requirement already satisfied: pytz>=2020.1 in d:\\0awork\\envs\\finrl\\lib\\site-packages (from pandas>=0.24.2->stockstats) (2025.2)\n",
      "Requirement already satisfied: tzdata>=2022.7 in d:\\0awork\\envs\\finrl\\lib\\site-packages (from pandas>=0.24.2->stockstats) (2025.2)\n",
      "Requirement already satisfied: six>=1.5 in d:\\0awork\\envs\\finrl\\lib\\site-packages (from python-dateutil>=2.8.2->pandas>=0.24.2->stockstats) (1.17.0)\n",
      "Looking in indexes: https://mirrors.tuna.tsinghua.edu.cn/pypi/web/simple\n",
      "Requirement already satisfied: tushare in d:\\0awork\\envs\\finrl\\lib\\site-packages (1.4.21)\n",
      "Requirement already satisfied: pandas in d:\\0awork\\envs\\finrl\\lib\\site-packages (from tushare) (2.2.3)\n",
      "Requirement already satisfied: requests in d:\\0awork\\envs\\finrl\\lib\\site-packages (from tushare) (2.32.3)\n",
      "Requirement already satisfied: lxml in d:\\0awork\\envs\\finrl\\lib\\site-packages (from tushare) (5.4.0)\n",
      "Requirement already satisfied: simplejson in d:\\0awork\\envs\\finrl\\lib\\site-packages (from tushare) (3.20.1)\n",
      "Requirement already satisfied: bs4 in d:\\0awork\\envs\\finrl\\lib\\site-packages (from tushare) (0.0.2)\n",
      "Requirement already satisfied: websocket-client>=0.57.0 in d:\\0awork\\envs\\finrl\\lib\\site-packages (from tushare) (1.8.0)\n",
      "Requirement already satisfied: tqdm in d:\\0awork\\envs\\finrl\\lib\\site-packages (from tushare) (4.67.1)\n",
      "Requirement already satisfied: beautifulsoup4 in d:\\0awork\\envs\\finrl\\lib\\site-packages (from bs4->tushare) (4.13.4)\n",
      "Requirement already satisfied: soupsieve>1.2 in d:\\0awork\\envs\\finrl\\lib\\site-packages (from beautifulsoup4->bs4->tushare) (2.7)\n",
      "Requirement already satisfied: typing-extensions>=4.0.0 in d:\\0awork\\envs\\finrl\\lib\\site-packages (from beautifulsoup4->bs4->tushare) (4.13.2)\n",
      "Requirement already satisfied: numpy>=1.23.2 in d:\\0awork\\envs\\finrl\\lib\\site-packages (from pandas->tushare) (2.2.6)\n",
      "Requirement already satisfied: python-dateutil>=2.8.2 in d:\\0awork\\envs\\finrl\\lib\\site-packages (from pandas->tushare) (2.9.0.post0)\n",
      "Requirement already satisfied: pytz>=2020.1 in d:\\0awork\\envs\\finrl\\lib\\site-packages (from pandas->tushare) (2025.2)\n",
      "Requirement already satisfied: tzdata>=2022.7 in d:\\0awork\\envs\\finrl\\lib\\site-packages (from pandas->tushare) (2025.2)\n",
      "Requirement already satisfied: six>=1.5 in d:\\0awork\\envs\\finrl\\lib\\site-packages (from python-dateutil>=2.8.2->pandas->tushare) (1.17.0)\n",
      "Requirement already satisfied: charset-normalizer<4,>=2 in d:\\0awork\\envs\\finrl\\lib\\site-packages (from requests->tushare) (3.4.2)\n",
      "Requirement already satisfied: idna<4,>=2.5 in d:\\0awork\\envs\\finrl\\lib\\site-packages (from requests->tushare) (3.10)\n",
      "Requirement already satisfied: urllib3<3,>=1.21.1 in d:\\0awork\\envs\\finrl\\lib\\site-packages (from requests->tushare) (1.26.20)\n",
      "Requirement already satisfied: certifi>=2017.4.17 in d:\\0awork\\envs\\finrl\\lib\\site-packages (from requests->tushare) (2025.4.26)\n",
      "Requirement already satisfied: colorama in d:\\0awork\\envs\\finrl\\lib\\site-packages (from tqdm->tushare) (0.4.6)\n"
     ]
    }
   ],
   "source": [
    "!pip install stockstats\n",
    "!pip install tushare\n"
   ]
  },
  {
   "attachments": {},
   "cell_type": "markdown",
   "id": "C-MYxgpJTMGP",
   "metadata": {
    "id": "C-MYxgpJTMGP"
   },
   "source": [
    "## Import Modules"
   ]
  },
  {
   "cell_type": "code",
   "execution_count": 2,
   "id": "Vx_hcZwgTKQp",
   "metadata": {
    "colab": {
     "base_uri": "https://localhost:8080/"
    },
    "id": "Vx_hcZwgTKQp",
    "outputId": "d6b36801-3064-4251-aadd-2396cb03ad5d"
   },
   "outputs": [
    {
     "name": "stdout",
     "output_type": "stream",
     "text": [
      "ALL Modules have been imported!\n"
     ]
    }
   ],
   "source": [
    "import warnings\n",
    "\n",
    "warnings.filterwarnings(\"ignore\")\n",
    "\n",
    "import pandas as pd \n",
    "from IPython import display\n",
    "\n",
    "\n",
    "\n",
    "from meta import config \n",
    "from meta.data_processor import DataProcessor \n",
    "from main import check_and_make_directories \n",
    "from meta.data_processors.tushare import Tushare, ReturnPlotter \n",
    "from meta.env_stock_trading.env_stocktrading_China_A_shares import StockTradingEnv \n",
    "from agents.stablebaselines3_models import DRLAgent \n",
    "import os \n",
    "from typing import List \n",
    "from argparse import ArgumentParser \n",
    "from meta import config \n",
    "from meta.config_tickers import DOW_30_TICKER \n",
    "from meta.config import ( DATA_SAVE_DIR, TRAINED_MODEL_DIR, TENSORBOARD_LOG_DIR, RESULTS_DIR, INDICATORS, TRAIN_START_DATE, TRAIN_END_DATE, TEST_START_DATE, TEST_END_DATE, TRADE_START_DATE, TRADE_END_DATE, ERL_PARAMS, RLlib_PARAMS, SAC_PARAMS, ALPACA_API_KEY, ALPACA_API_SECRET, ALPACA_API_BASE_URL, )\n",
    "\n",
    "import pyfolio\n",
    "from pyfolio import timeseries\n",
    "\n",
    "pd.options.display.max_columns = None\n",
    "\n",
    "print(\"ALL Modules have been imported!\")"
   ]
  },
  {
   "attachments": {},
   "cell_type": "markdown",
   "id": "FRQz2ptSTjPJ",
   "metadata": {
    "id": "FRQz2ptSTjPJ"
   },
   "source": [
    "## Create Folders"
   ]
  },
  {
   "cell_type": "code",
   "execution_count": 3,
   "id": "pmttRZWWTXcd",
   "metadata": {
    "id": "pmttRZWWTXcd"
   },
   "outputs": [],
   "source": [
    "import os\n",
    "\n",
    "''' \n",
    "use check_and_make_directories() to replace the following\n",
    "\n",
    "if not os.path.exists(\"./datasets\"): \n",
    "  os.makedirs(\"./datasets\") \n",
    "if not os.path.exists(\"./trained_models\"): \n",
    "  os.makedirs(\"./trained_models\") \n",
    "if not os.path.exists(\"./tensorboard_log\"): \n",
    "  os.makedirs(\"./tensorboard_log\") \n",
    "if not os.path.exists(\"./results\"): \n",
    "  os.makedirs(\"./results\") \n",
    "'''\n",
    "\n",
    "check_and_make_directories([DATA_SAVE_DIR, TRAINED_MODEL_DIR, TENSORBOARD_LOG_DIR, RESULTS_DIR])"
   ]
  },
  {
   "attachments": {},
   "cell_type": "markdown",
   "id": "94s2JtmxTuLq",
   "metadata": {
    "id": "94s2JtmxTuLq"
   },
   "source": [
    "## Download data, cleaning and feature engineering"
   ]
  },
  {
   "cell_type": "code",
   "execution_count": 4,
   "id": "xpPTz-xDTovy",
   "metadata": {
    "colab": {
     "base_uri": "https://localhost:8080/"
    },
    "id": "xpPTz-xDTovy",
    "outputId": "40df5f90-6211-452c-ee63-2dc2c849b370"
   },
   "outputs": [
    {
     "name": "stdout",
     "output_type": "stream",
     "text": [
      "tushare successfully connected\n"
     ]
    }
   ],
   "source": [
    "ticker_list = ['600000.SH', '600009.SH', '600016.SH', '600028.SH', '600030.SH', '600031.SH', '600036.SH', '600050.SH', '600104.SH', '600196.SH', '600276.SH', '600309.SH', '600519.SH', '600547.SH', '600570.SH']\n",
    "\n",
    "TRAIN_START_DATE = '2015-01-01' \n",
    "TRAIN_END_DATE= '2019-08-01' \n",
    "TRADE_START_DATE = '2019-08-01' \n",
    "TRADE_END_DATE = '2020-01-03'\n",
    "\n",
    "TIME_INTERVAL = \"1d\" \n",
    "kwargs = {} \n",
    "kwargs['token'] = '27080ec403c0218f96f388bca1b1d85329d563c91a43672239619ef5' \n",
    "p = DataProcessor(data_source='tushare', start_date=TRAIN_START_DATE, end_date=TRADE_END_DATE, time_interval=TIME_INTERVAL, **kwargs)"
   ]
  },
  {
   "attachments": {},
   "cell_type": "markdown",
   "id": "svZh2OT0T7PG",
   "metadata": {
    "id": "svZh2OT0T7PG"
   },
   "source": [
    "### Download and Clean"
   ]
  },
  {
   "cell_type": "code",
   "execution_count": 5,
   "id": "v_PzruLIT3D1",
   "metadata": {
    "colab": {
     "base_uri": "https://localhost:8080/"
    },
    "id": "v_PzruLIT3D1",
    "outputId": "fa4b9030-f8ff-41a3-abef-77be4f9d37ce"
   },
   "outputs": [
    {
     "name": "stderr",
     "output_type": "stream",
     "text": [
      "100%|██████████| 15/15 [00:06<00:00,  2.15it/s]"
     ]
    },
    {
     "name": "stdout",
     "output_type": "stream",
     "text": [
      "Download complete! Dataset saved to ./data/dataset.csv. \n",
      "Shape of DataFrame: (17960, 8)\n",
      "Shape of DataFrame:  (18315, 8)\n"
     ]
    },
    {
     "name": "stderr",
     "output_type": "stream",
     "text": [
      "\n"
     ]
    }
   ],
   "source": [
    "p.download_data(ticker_list=ticker_list)\n",
    "p.clean_data()\n",
    "p.fillna()"
   ]
  },
  {
   "attachments": {},
   "cell_type": "markdown",
   "id": "tsHu-XT_T_vQ",
   "metadata": {
    "id": "tsHu-XT_T_vQ"
   },
   "source": [
    "### Add technical indicator"
   ]
  },
  {
   "cell_type": "code",
   "execution_count": 6,
   "id": "VfniyyQQT3nq",
   "metadata": {
    "id": "VfniyyQQT3nq"
   },
   "outputs": [
    {
     "name": "stdout",
     "output_type": "stream",
     "text": [
      "tech_indicator_list:  ['macd', 'boll_ub', 'boll_lb', 'rsi_30', 'cci_30', 'dx_30', 'close_30_sma', 'close_60_sma']\n",
      "indicator:  macd\n",
      "indicator:  boll_ub\n",
      "indicator:  boll_lb\n",
      "indicator:  rsi_30\n",
      "indicator:  cci_30\n",
      "indicator:  dx_30\n",
      "indicator:  close_30_sma\n",
      "indicator:  close_60_sma\n",
      "Succesfully add technical indicators\n",
      "Shape of DataFrame:  (18270, 17)\n"
     ]
    }
   ],
   "source": [
    "p.add_technical_indicator(config.INDICATORS) \n",
    "p.fillna()\n",
    "\n",
    "#print(f\"p.dataframe: {p.dataframe}\")"
   ]
  },
  {
   "attachments": {},
   "cell_type": "markdown",
   "id": "cKZk3jGuUR34",
   "metadata": {
    "id": "cKZk3jGuUR34"
   },
   "source": [
    "## Split training dataset"
   ]
  },
  {
   "cell_type": "code",
   "execution_count": 7,
   "id": "SuKbrwflUVeU",
   "metadata": {
    "colab": {
     "base_uri": "https://localhost:8080/"
    },
    "id": "SuKbrwflUVeU",
    "outputId": "7596367b-670d-4d6c-b439-033075d87589"
   },
   "outputs": [
    {
     "name": "stdout",
     "output_type": "stream",
     "text": [
      "len(train.tic.unique()): 15\n"
     ]
    }
   ],
   "source": [
    "train = p.data_split(p.dataframe, TRAIN_START_DATE, TRAIN_END_DATE) \n",
    "\n",
    "print(f\"len(train.tic.unique()): {len(train.tic.unique())}\")"
   ]
  },
  {
   "cell_type": "code",
   "execution_count": 8,
   "id": "5ONAnSMBUWyu",
   "metadata": {
    "colab": {
     "base_uri": "https://localhost:8080/"
    },
    "id": "5ONAnSMBUWyu",
    "outputId": "5bdf45d0-7689-4d31-dfa6-cbcbe8e64827"
   },
   "outputs": [
    {
     "name": "stdout",
     "output_type": "stream",
     "text": [
      "train.tic.unique(): ['600000.SH' '600009.SH' '600016.SH' '600028.SH' '600030.SH' '600031.SH'\n",
      " '600036.SH' '600050.SH' '600104.SH' '600196.SH' '600276.SH' '600309.SH'\n",
      " '600519.SH' '600547.SH' '600570.SH']\n"
     ]
    }
   ],
   "source": [
    "print(f\"train.tic.unique(): {train.tic.unique()}\")"
   ]
  },
  {
   "cell_type": "code",
   "execution_count": 9,
   "id": "BXF8hYDvUXfv",
   "metadata": {
    "colab": {
     "base_uri": "https://localhost:8080/"
    },
    "id": "BXF8hYDvUXfv",
    "outputId": "a08ebe19-0107-4e31-c6df-816c846aa3f2"
   },
   "outputs": [
    {
     "name": "stdout",
     "output_type": "stream",
     "text": [
      "train.head():          tic        time  index   open   high    low  close  adjusted_close  \\\n",
      "0  600000.SH  2015-01-08     45  15.87  15.88  15.20  15.25           15.25   \n",
      "0  600009.SH  2015-01-08     46  20.18  20.18  19.73  20.00           20.00   \n",
      "0  600016.SH  2015-01-08     47  10.61  10.66  10.09  10.20           10.20   \n",
      "0  600028.SH  2015-01-08     48   7.09   7.41   6.83   6.85            6.85   \n",
      "0  600030.SH  2015-01-08     49  36.40  36.70  34.68  35.25           35.25   \n",
      "\n",
      "       volume      macd    boll_ub    boll_lb     rsi_30      cci_30  \\\n",
      "0  3306271.72 -0.032571  16.617911  15.012089   6.058641 -125.593009   \n",
      "0   198117.45 -0.016008  20.663897  19.736103  12.828915  -90.842491   \n",
      "0  4851684.17 -0.018247  10.957604   9.997396  11.862558  -99.887006   \n",
      "0  8190902.35 -0.008227   7.342000   6.743000  27.409248   36.578171   \n",
      "0  6376268.69  0.032910  36.576444  33.808556  61.517448   47.947020   \n",
      "\n",
      "        dx_30  close_30_sma  close_60_sma  \n",
      "0   23.014040       15.8150       15.8150  \n",
      "0  100.000000       20.2000       20.2000  \n",
      "0  100.000000       10.4775       10.4775  \n",
      "0   64.934862        7.0425        7.0425  \n",
      "0  100.000000       35.1925       35.1925  \n"
     ]
    }
   ],
   "source": [
    "print(f\"train.head(): {train.head()}\")"
   ]
  },
  {
   "cell_type": "code",
   "execution_count": 10,
   "id": "CnwNoBG5UXSQ",
   "metadata": {
    "colab": {
     "base_uri": "https://localhost:8080/"
    },
    "id": "CnwNoBG5UXSQ",
    "outputId": "3bcf1c7a-e9de-4b92-fc7e-069904d9e6e0"
   },
   "outputs": [
    {
     "name": "stdout",
     "output_type": "stream",
     "text": [
      "train.shape: (16695, 17)\n"
     ]
    }
   ],
   "source": [
    "print(f\"train.shape: {train.shape}\")"
   ]
  },
  {
   "cell_type": "code",
   "execution_count": 11,
   "id": "joNhXi_ZUXId",
   "metadata": {
    "colab": {
     "base_uri": "https://localhost:8080/"
    },
    "id": "joNhXi_ZUXId",
    "outputId": "460b9763-6b0f-4976-f772-4a9a7cda2255"
   },
   "outputs": [
    {
     "name": "stdout",
     "output_type": "stream",
     "text": [
      "Stock Dimension: 15, State Space: 151\n"
     ]
    }
   ],
   "source": [
    "stock_dimension = len(train.tic.unique()) \n",
    "state_space = stock_dimension * (len(config.INDICATORS) + 2) + 1 \n",
    "\n",
    "print(f\"Stock Dimension: {stock_dimension}, State Space: {state_space}\")"
   ]
  },
  {
   "attachments": {},
   "cell_type": "markdown",
   "id": "le09273cUmzH",
   "metadata": {
    "id": "le09273cUmzH"
   },
   "source": [
    "## Train"
   ]
  },
  {
   "cell_type": "code",
   "execution_count": 12,
   "id": "Npwpqkr7UpFF",
   "metadata": {
    "id": "Npwpqkr7UpFF"
   },
   "outputs": [],
   "source": [
    "env_kwargs = { \"stock_dim\": stock_dimension, \"hmax\": 1000, \"initial_amount\": 1000000, \"buy_cost_pct\": 6.87e-5, \"sell_cost_pct\": 1.0687e-3, \"reward_scaling\": 1e-4, \"state_space\": state_space, \"action_space\": stock_dimension, \"tech_indicator_list\": config.INDICATORS, \"print_verbosity\": 1, \"initial_buy\": True, \"hundred_each_trade\": True }\n",
    "\n",
    "e_train_gym = StockTradingEnv(df=train, **env_kwargs)"
   ]
  },
  {
   "cell_type": "code",
   "execution_count": 13,
   "id": "f1POZL3nUyDY",
   "metadata": {
    "id": "f1POZL3nUyDY"
   },
   "outputs": [
    {
     "name": "stdout",
     "output_type": "stream",
     "text": [
      "<class 'stable_baselines3.common.vec_env.dummy_vec_env.DummyVecEnv'>\n",
      "print(type(env_train)): None\n"
     ]
    }
   ],
   "source": [
    "env_train, _ = e_train_gym.get_sb_env() \n",
    "\n",
    "print(f\"print(type(env_train)): {print(type(env_train))}\")"
   ]
  },
  {
   "attachments": {},
   "cell_type": "markdown",
   "id": "QkY8sVWhU6PH",
   "metadata": {
    "id": "QkY8sVWhU6PH"
   },
   "source": [
    "### DDPG"
   ]
  },
  {
   "cell_type": "code",
   "execution_count": 14,
   "id": "dLjEviBhUzuc",
   "metadata": {
    "colab": {
     "base_uri": "https://localhost:8080/"
    },
    "id": "dLjEviBhUzuc",
    "outputId": "58226aaa-41dc-45ce-9f5c-1e5cb94d27a4"
   },
   "outputs": [
    {
     "name": "stdout",
     "output_type": "stream",
     "text": [
      "Loading existing model from trained_models\\ddpg_model.zip\n",
      "Wrapping the env with a `Monitor` wrapper\n",
      "Wrapping the env in a DummyVecEnv.\n"
     ]
    }
   ],
   "source": [
    "import os\n",
    "from stable_baselines3 import DDPG # Import DDPG class for loading\n",
    "# ... existing code ...\n",
    "\n",
    "agent = DRLAgent(env=e_train_gym) # Use e_train_gym directly as it's the unwrapped env\n",
    "\n",
    "# Define model save path\n",
    "model_save_path = os.path.join(config.TRAINED_MODEL_DIR, 'ddpg_model.zip')\n",
    "\n",
    "# Check if model exists, if so, load it\n",
    "if os.path.exists(model_save_path):\n",
    "    print(f\"Loading existing model from {model_save_path}\")\n",
    "    # Pass env to the loaded model. Note: stable_baselines3 load method handles wrapping if needed\n",
    "    trained_ddpg = DDPG.load(model_save_path, env=e_train_gym)\n",
    "else:\n",
    "    print(f\"No existing model found at {model_save_path}. Training new model...\")\n",
    "    DDPG_PARAMS = { \"batch_size\": 256, \"buffer_size\": 50000, \"learning_rate\": 0.0005, \"action_noise\": \"normal\", }\n",
    "    POLICY_KWARGS = dict(net_arch=dict(pi=[64, 64], qf=[400, 300]))\n",
    "    # Get the model instance (unwrapped env is fine here)\n",
    "    model_ddpg = agent.get_model(\"ddpg\", model_kwargs=DDPG_PARAMS, policy_kwargs=POLICY_KWARGS)\n",
    "\n",
    "    # Train the model using the wrapped environment from get_sb_env()\n",
    "    env_train_wrapped, _ = e_train_gym.get_sb_env()\n",
    "    trained_ddpg = agent.train_model(model=model_ddpg, tb_log_name='ddpg', total_timesteps=10000)\n",
    "    # Save the trained model\n",
    "    trained_ddpg.save(model_save_path)\n",
    "    print(f\"Trained model saved to {model_save_path}\")\n",
    "\n",
    "# print(f\"print(type(env_train)): {print(type(env_train))}\")"
   ]
  },
  {
   "attachments": {},
   "cell_type": "markdown",
   "id": "ALJ1gqVmVEiU",
   "metadata": {
    "id": "ALJ1gqVmVEiU"
   },
   "source": [
    "### A2C"
   ]
  },
  {
   "cell_type": "code",
   "execution_count": 15,
   "id": "2F5qCGnNUzm7",
   "metadata": {
    "colab": {
     "base_uri": "https://localhost:8080/"
    },
    "id": "2F5qCGnNUzm7",
    "outputId": "b8db239f-7d37-4587-c511-0f2dc4c6f273"
   },
   "outputs": [
    {
     "name": "stdout",
     "output_type": "stream",
     "text": [
      "Loading existing model from trained_models\\a2c_model.zip\n",
      "Wrapping the env with a `Monitor` wrapper\n",
      "Wrapping the env in a DummyVecEnv.\n"
     ]
    }
   ],
   "source": [
    "import os\n",
    "from stable_baselines3 import A2C # Import A2C class for loading\n",
    "# ... existing code ...\n",
    "\n",
    "agent = DRLAgent(env=e_train_gym) # Use e_train_gym directly as it's the unwrapped env\n",
    "\n",
    "# Define model save path\n",
    "model_save_path = os.path.join(config.TRAINED_MODEL_DIR, 'a2c_model.zip')\n",
    "\n",
    "# Check if model exists, if so, load it\n",
    "if os.path.exists(model_save_path):\n",
    "    print(f\"Loading existing model from {model_save_path}\")\n",
    "    trained_a2c = A2C.load(model_save_path, env=e_train_gym) # Pass env for the loaded model\n",
    "else:\n",
    "    print(f\"No existing model found at {model_save_path}. Training new model...\")\n",
    "    # Get the model instance (unwrapped env is fine here)\n",
    "    model_a2c = agent.get_model(\"a2c\")\n",
    "\n",
    "    # Train the model using the wrapped environment from get_sb_env()\n",
    "    env_train_wrapped, _ = e_train_gym.get_sb_env()\n",
    "    trained_a2c = agent.train_model(model=model_a2c, tb_log_name='a2c', total_timesteps=50000)\n",
    "    # Save the trained model\n",
    "    trained_a2c.save(model_save_path)\n",
    "    print(f\"Trained model saved to {model_save_path}\")\n",
    "\n",
    "# print(f\"print(type(env_train)): {print(type(env_train))}\")\n",
    "\n",
    "\n"
   ]
  },
  {
   "attachments": {},
   "cell_type": "markdown",
   "id": "ArAnGULyVVfK",
   "metadata": {
    "id": "ArAnGULyVVfK"
   },
   "source": [
    "## Trade"
   ]
  },
  {
   "cell_type": "code",
   "execution_count": 16,
   "id": "TzU6JBAWVGPG",
   "metadata": {
    "id": "TzU6JBAWVGPG"
   },
   "outputs": [],
   "source": [
    "trade = p.data_split(p.dataframe, TRADE_START_DATE, TRADE_END_DATE) \n",
    "env_kwargs = { \"stock_dim\": stock_dimension, \"hmax\": 1000, \"initial_amount\": 1000000, \"buy_cost_pct\": 6.87e-5, \"sell_cost_pct\": 1.0687e-3, \"reward_scaling\": 1e-4, \"state_space\": state_space, \"action_space\": stock_dimension, \"tech_indicator_list\": config.INDICATORS, \"print_verbosity\": 1, \"initial_buy\": False, \"hundred_each_trade\": True } \n",
    "e_trade_gym = StockTradingEnv(df=trade, **env_kwargs)"
   ]
  },
  {
   "cell_type": "code",
   "execution_count": 17,
   "id": "fdg8qypiVSOn",
   "metadata": {
    "colab": {
     "base_uri": "https://localhost:8080/"
    },
    "id": "fdg8qypiVSOn",
    "outputId": "af6f6967-7e06-41c5-850f-d0e2512ecd43"
   },
   "outputs": [
    {
     "name": "stdout",
     "output_type": "stream",
     "text": [
      "Episode: 2\n",
      "day: 103, episode: 2\n",
      "begin_total_asset: 1000000.00\n",
      "end_total_asset: 1226184.32\n",
      "total_reward: 226184.32\n",
      "total_cost: 68.68\n",
      "total_trades: 4\n",
      "Sharpe: 2.167\n",
      "=================================\n",
      "hit end!\n"
     ]
    }
   ],
   "source": [
    "df_account_value, df_actions = DRLAgent.DRL_prediction(model=trained_ddpg, environment=e_trade_gym)"
   ]
  },
  {
   "cell_type": "code",
   "execution_count": 18,
   "id": "Ih4rdH3uVSo1",
   "metadata": {
    "colab": {
     "base_uri": "https://localhost:8080/"
    },
    "id": "Ih4rdH3uVSo1",
    "outputId": "291d8234-ee54-4ef2-a511-1e084a783f4e"
   },
   "outputs": [
    {
     "name": "stdout",
     "output_type": "stream",
     "text": [
      "df_actions:             600000.SH  600009.SH  600016.SH  600028.SH  600030.SH  600031.SH  \\\n",
      "date                                                                           \n",
      "2019-08-01          0          0          0          0          0          0   \n",
      "2019-08-01          0          0          0          0          0          0   \n",
      "2019-08-02          0          0          0          0          0          0   \n",
      "2019-08-05          0          0          0          0          0          0   \n",
      "2019-08-06          0          0          0          0          0          0   \n",
      "...               ...        ...        ...        ...        ...        ...   \n",
      "2019-12-24          0          0          0          0          0          0   \n",
      "2019-12-25          0          0          0          0          0          0   \n",
      "2019-12-26          0          0          0          0          0          0   \n",
      "2019-12-27          0          0          0          0          0          0   \n",
      "2019-12-30          0          0          0          0          0          0   \n",
      "\n",
      "            600036.SH  600050.SH  600104.SH  600196.SH  600276.SH  600309.SH  \\\n",
      "date                                                                           \n",
      "2019-08-01          0          0        200          0        900          0   \n",
      "2019-08-01          0          0          0          0          0          0   \n",
      "2019-08-02          0          0          0          0          0          0   \n",
      "2019-08-05          0          0          0          0          0          0   \n",
      "2019-08-06          0          0          0          0          0          0   \n",
      "...               ...        ...        ...        ...        ...        ...   \n",
      "2019-12-24          0          0          0          0          0          0   \n",
      "2019-12-25          0          0          0          0          0          0   \n",
      "2019-12-26          0          0          0          0          0          0   \n",
      "2019-12-27          0          0          0          0          0          0   \n",
      "2019-12-30          0          0          0          0          0          0   \n",
      "\n",
      "            600519.SH  600547.SH  600570.SH  \n",
      "date                                         \n",
      "2019-08-01        900          0       1000  \n",
      "2019-08-01          0          0          0  \n",
      "2019-08-02          0          0          0  \n",
      "2019-08-05          0          0          0  \n",
      "2019-08-06          0          0          0  \n",
      "...               ...        ...        ...  \n",
      "2019-12-24          0          0          0  \n",
      "2019-12-25          0          0          0  \n",
      "2019-12-26          0          0          0  \n",
      "2019-12-27          0          0          0  \n",
      "2019-12-30          0          0          0  \n",
      "\n",
      "[103 rows x 15 columns]\n"
     ]
    }
   ],
   "source": [
    "df_actions.to_csv(\"action.csv\", index=False) \n",
    "print(f\"df_actions: {df_actions}\")"
   ]
  },
  {
   "cell_type": "code",
   "execution_count": 19,
   "id": "5f7bd373",
   "metadata": {},
   "outputs": [
    {
     "name": "stdout",
     "output_type": "stream",
     "text": [
      "df_account_value info:\n",
      "<class 'pandas.core.frame.DataFrame'>\n",
      "RangeIndex: 103 entries, 0 to 102\n",
      "Data columns (total 2 columns):\n",
      " #   Column         Non-Null Count  Dtype         \n",
      "---  ------         --------------  -----         \n",
      " 0   date           103 non-null    datetime64[ns]\n",
      " 1   account_value  103 non-null    float64       \n",
      "dtypes: datetime64[ns](1), float64(1)\n",
      "memory usage: 1.7 KB\n",
      "None\n",
      "\n",
      "df_account_value head:\n",
      "        date  account_value\n",
      "0 2019-08-01   999931.31958\n",
      "1 2019-08-02   992453.31958\n",
      "2 2019-08-05   977735.31958\n",
      "3 2019-08-06   979976.31958\n",
      "4 2019-08-07   978770.31958\n",
      "\n",
      "df_account_value tail:\n",
      "          date  account_value\n",
      "98  2019-12-25   1.176832e+06\n",
      "99  2019-12-26   1.180060e+06\n",
      "100 2019-12-27   1.203224e+06\n",
      "101 2019-12-30   1.226566e+06\n",
      "102 2019-12-31   1.226184e+06\n",
      "\n",
      "trade info:\n",
      "<class 'pandas.core.frame.DataFrame'>\n",
      "Index: 1560 entries, 0 to 103\n",
      "Data columns (total 17 columns):\n",
      " #   Column          Non-Null Count  Dtype  \n",
      "---  ------          --------------  -----  \n",
      " 0   tic             1560 non-null   object \n",
      " 1   time            1560 non-null   object \n",
      " 2   index           1560 non-null   int64  \n",
      " 3   open            1560 non-null   float64\n",
      " 4   high            1560 non-null   float64\n",
      " 5   low             1560 non-null   float64\n",
      " 6   close           1560 non-null   float64\n",
      " 7   adjusted_close  1560 non-null   float64\n",
      " 8   volume          1560 non-null   float64\n",
      " 9   macd            1560 non-null   float64\n",
      " 10  boll_ub         1560 non-null   float64\n",
      " 11  boll_lb         1560 non-null   float64\n",
      " 12  rsi_30          1560 non-null   float64\n",
      " 13  cci_30          1560 non-null   float64\n",
      " 14  dx_30           1560 non-null   float64\n",
      " 15  close_30_sma    1560 non-null   float64\n",
      " 16  close_60_sma    1560 non-null   float64\n",
      "dtypes: float64(14), int64(1), object(2)\n",
      "memory usage: 251.7+ KB\n",
      "None\n",
      "\n",
      "trade head:\n",
      "         tic        time  index   open   high    low  close  adjusted_close  \\\n",
      "0  600000.SH  2019-08-01  16740  11.76  11.85  11.63  11.65           11.65   \n",
      "0  600009.SH  2019-08-01  16741  82.78  83.46  81.60  82.01           82.01   \n",
      "0  600016.SH  2019-08-01  16742   6.04   6.06   6.01   6.02            6.02   \n",
      "0  600028.SH  2019-08-01  16743   5.25   5.27   5.21   5.23            5.23   \n",
      "0  600030.SH  2019-08-01  16744  23.09  23.19  22.81  22.92           22.92   \n",
      "\n",
      "      volume      macd    boll_ub    boll_lb     rsi_30      cci_30  \\\n",
      "0  324717.02  0.061723  11.954291  11.217709  51.629338   30.105973   \n",
      "0   72583.66  1.456486  85.100887  78.654113  57.259597   28.697822   \n",
      "0  517116.83 -0.045649   6.088116   5.935884  43.258474  -43.433030   \n",
      "0  616872.58 -0.030634   5.362514   5.179486  42.928615  -77.147867   \n",
      "0  809710.56  0.143135  23.703768  22.720232  51.752238 -102.582689   \n",
      "\n",
      "       dx_30  close_30_sma  close_60_sma  \n",
      "0   9.109642     11.632667     11.516667  \n",
      "0  13.903367     81.707000     76.533333  \n",
      "0   5.774779      6.139667      6.162500  \n",
      "0  22.469955      5.324333      5.357333  \n",
      "0  11.905549     23.385667     21.918333  \n",
      "\n",
      "trade tail:\n",
      "           tic        time  index     open     high      low    close  \\\n",
      "103  600276.SH  2020-01-02  18295    88.00    88.10    86.85    87.68   \n",
      "103  600309.SH  2020-01-02  18296    56.50    57.60    55.69    55.89   \n",
      "103  600519.SH  2020-01-02  18297  1128.00  1145.06  1116.00  1130.00   \n",
      "103  600547.SH  2020-01-02  18298    32.31    32.96    32.26    32.90   \n",
      "103  600570.SH  2020-01-02  18299    78.81    79.98    77.96    79.44   \n",
      "\n",
      "     adjusted_close     volume      macd      boll_ub      boll_lb     rsi_30  \\\n",
      "103           87.68  210809.91 -0.345742    87.726881    82.918119  53.727892   \n",
      "103           55.89  213379.65  1.824002    56.464963    49.288037  67.318349   \n",
      "103         1130.00  148099.16 -3.944016  1188.194602  1121.743398  46.814398   \n",
      "103           32.90  489106.37  0.348359    32.722690    30.612310  52.089075   \n",
      "103           79.44  175683.22  0.576198    81.327750    73.235250  54.957562   \n",
      "\n",
      "         cci_30      dx_30  close_30_sma  close_60_sma  \n",
      "103   55.084385   2.193577     86.140333     87.454167  \n",
      "103  154.362552  50.898752     51.418667     48.306667  \n",
      "103  -98.839848  24.496850   1158.660667   1175.338000  \n",
      "103  155.084385  32.165604     31.288667     31.498333  \n",
      "103   97.011383  16.335704     76.178000     76.136500  \n"
     ]
    }
   ],
   "source": [
    "print(\"df_account_value info:\")\n",
    "print(df_account_value.info())\n",
    "print(\"\\ndf_account_value head:\")\n",
    "print(df_account_value.head())\n",
    "print(\"\\ndf_account_value tail:\")\n",
    "print(df_account_value.tail())\n",
    "\n",
    "\n",
    "print(\"\\ntrade info:\")\n",
    "print(trade.info())\n",
    "print(\"\\ntrade head:\")\n",
    "print(trade.head())\n",
    "print(\"\\ntrade tail:\")\n",
    "print(trade.tail())\n"
   ]
  },
  {
   "attachments": {},
   "cell_type": "markdown",
   "id": "l7X1KIaVWUYp",
   "metadata": {
    "id": "l7X1KIaVWUYp"
   },
   "source": [
    "## Backtest"
   ]
  },
  {
   "attachments": {},
   "cell_type": "markdown",
   "id": "dUJn8einWPKI",
   "metadata": {
    "id": "dUJn8einWPKI"
   },
   "source": [
    "### matplotlib inline"
   ]
  },
  {
   "cell_type": "code",
   "execution_count": 24,
   "id": "pR6hNouKWOoY",
   "metadata": {
    "id": "pR6hNouKWOoY"
   },
   "outputs": [],
   "source": [
    "plotter = ReturnPlotter(df_account_value, trade, TRADE_START_DATE, TRADE_END_DATE, token='27080ec403c0218f96f388bca1b1d85329d563c91a43672239619ef5')\n",
    "plotter.plot()"
   ]
  },
  {
   "cell_type": "code",
   "execution_count": 25,
   "id": "Qx62Q575YC9I",
   "metadata": {
    "id": "Qx62Q575YC9I"
   },
   "outputs": [
    {
     "name": "stdout",
     "output_type": "stream",
     "text": [
      "Error fetching baseline data for 000016 (000016.SH, asset=I) from Tushare Pro: 请指定正确的接口名\n",
      "Error: Could not fetch baseline data for ticket 000016.\n"
     ]
    }
   ],
   "source": [
    "# ticket: SSE 50：000016\n",
    "plotter.plot(\"000016\")"
   ]
  },
  {
   "attachments": {},
   "cell_type": "markdown",
   "id": "XUAh2S9Lamxe",
   "metadata": {
    "id": "XUAh2S9Lamxe"
   },
   "source": [
    "### CSI 300"
   ]
  },
  {
   "cell_type": "code",
   "execution_count": 26,
   "id": "NJZdXMGvYI9O",
   "metadata": {
    "id": "NJZdXMGvYI9O"
   },
   "outputs": [
    {
     "name": "stdout",
     "output_type": "stream",
     "text": [
      "Error fetching baseline data for 399300 (399300, asset=E) from Tushare Pro: 请指定正确的接口名\n"
     ]
    }
   ],
   "source": [
    "baseline_df = plotter.get_baseline(\"399300\")"
   ]
  },
  {
   "cell_type": "code",
   "execution_count": 23,
   "id": "ZSRJpKINYcBa",
   "metadata": {
    "id": "ZSRJpKINYcBa"
   },
   "outputs": [
    {
     "ename": "KeyError",
     "evalue": "'time'",
     "output_type": "error",
     "traceback": [
      "\u001b[31m---------------------------------------------------------------------------\u001b[39m",
      "\u001b[31mKeyError\u001b[39m                                  Traceback (most recent call last)",
      "\u001b[36mFile \u001b[39m\u001b[32md:\\0Awork\\Envs\\FinRL\\Lib\\site-packages\\pandas\\core\\indexes\\base.py:3805\u001b[39m, in \u001b[36mIndex.get_loc\u001b[39m\u001b[34m(self, key)\u001b[39m\n\u001b[32m   3804\u001b[39m \u001b[38;5;28;01mtry\u001b[39;00m:\n\u001b[32m-> \u001b[39m\u001b[32m3805\u001b[39m     \u001b[38;5;28;01mreturn\u001b[39;00m \u001b[38;5;28;43mself\u001b[39;49m\u001b[43m.\u001b[49m\u001b[43m_engine\u001b[49m\u001b[43m.\u001b[49m\u001b[43mget_loc\u001b[49m\u001b[43m(\u001b[49m\u001b[43mcasted_key\u001b[49m\u001b[43m)\u001b[49m\n\u001b[32m   3806\u001b[39m \u001b[38;5;28;01mexcept\u001b[39;00m \u001b[38;5;167;01mKeyError\u001b[39;00m \u001b[38;5;28;01mas\u001b[39;00m err:\n",
      "\u001b[36mFile \u001b[39m\u001b[32mindex.pyx:167\u001b[39m, in \u001b[36mpandas._libs.index.IndexEngine.get_loc\u001b[39m\u001b[34m()\u001b[39m\n",
      "\u001b[36mFile \u001b[39m\u001b[32mindex.pyx:196\u001b[39m, in \u001b[36mpandas._libs.index.IndexEngine.get_loc\u001b[39m\u001b[34m()\u001b[39m\n",
      "\u001b[36mFile \u001b[39m\u001b[32mpandas\\\\_libs\\\\hashtable_class_helper.pxi:7081\u001b[39m, in \u001b[36mpandas._libs.hashtable.PyObjectHashTable.get_item\u001b[39m\u001b[34m()\u001b[39m\n",
      "\u001b[36mFile \u001b[39m\u001b[32mpandas\\\\_libs\\\\hashtable_class_helper.pxi:7089\u001b[39m, in \u001b[36mpandas._libs.hashtable.PyObjectHashTable.get_item\u001b[39m\u001b[34m()\u001b[39m\n",
      "\u001b[31mKeyError\u001b[39m: 'time'",
      "\nThe above exception was the direct cause of the following exception:\n",
      "\u001b[31mKeyError\u001b[39m                                  Traceback (most recent call last)",
      "\u001b[36mCell\u001b[39m\u001b[36m \u001b[39m\u001b[32mIn[23]\u001b[39m\u001b[32m, line 1\u001b[39m\n\u001b[32m----> \u001b[39m\u001b[32m1\u001b[39m daily_return = \u001b[43mplotter\u001b[49m\u001b[43m.\u001b[49m\u001b[43mget_return\u001b[49m\u001b[43m(\u001b[49m\u001b[43mdf_account_value\u001b[49m\u001b[43m)\u001b[49m\n\u001b[32m      2\u001b[39m daily_return_base = plotter.get_return(baseline_df, value_col_name=\u001b[33m\"\u001b[39m\u001b[33mclose\u001b[39m\u001b[33m\"\u001b[39m)\n\u001b[32m      4\u001b[39m perf_func = timeseries.perf_stats \n",
      "\u001b[36mFile \u001b[39m\u001b[32md:\\0awork\\finrl\\finrl-meta\\meta\\data_processors\\tushare.py:435\u001b[39m, in \u001b[36mReturnPlotter.get_return\u001b[39m\u001b[34m(self, df, value_col_name)\u001b[39m\n\u001b[32m    433\u001b[39m df = copy.deepcopy(df)\n\u001b[32m    434\u001b[39m df[\u001b[33m\"\u001b[39m\u001b[33mdaily_return\u001b[39m\u001b[33m\"\u001b[39m] = df[value_col_name].pct_change(\u001b[32m1\u001b[39m)\n\u001b[32m--> \u001b[39m\u001b[32m435\u001b[39m df[\u001b[33m\"\u001b[39m\u001b[33mtime\u001b[39m\u001b[33m\"\u001b[39m] = pd.to_datetime(\u001b[43mdf\u001b[49m\u001b[43m[\u001b[49m\u001b[33;43m\"\u001b[39;49m\u001b[33;43mtime\u001b[39;49m\u001b[33;43m\"\u001b[39;49m\u001b[43m]\u001b[49m, \u001b[38;5;28mformat\u001b[39m=\u001b[33m\"\u001b[39m\u001b[33m%\u001b[39m\u001b[33mY-\u001b[39m\u001b[33m%\u001b[39m\u001b[33mm-\u001b[39m\u001b[38;5;132;01m%d\u001b[39;00m\u001b[33m\"\u001b[39m)\n\u001b[32m    436\u001b[39m df.set_index(\u001b[33m\"\u001b[39m\u001b[33mtime\u001b[39m\u001b[33m\"\u001b[39m, inplace=\u001b[38;5;28;01mTrue\u001b[39;00m, drop=\u001b[38;5;28;01mTrue\u001b[39;00m)\n\u001b[32m    437\u001b[39m df.index = df.index.tz_localize(\u001b[33m\"\u001b[39m\u001b[33mUTC\u001b[39m\u001b[33m\"\u001b[39m)\n",
      "\u001b[36mFile \u001b[39m\u001b[32md:\\0Awork\\Envs\\FinRL\\Lib\\site-packages\\pandas\\core\\frame.py:4102\u001b[39m, in \u001b[36mDataFrame.__getitem__\u001b[39m\u001b[34m(self, key)\u001b[39m\n\u001b[32m   4100\u001b[39m \u001b[38;5;28;01mif\u001b[39;00m \u001b[38;5;28mself\u001b[39m.columns.nlevels > \u001b[32m1\u001b[39m:\n\u001b[32m   4101\u001b[39m     \u001b[38;5;28;01mreturn\u001b[39;00m \u001b[38;5;28mself\u001b[39m._getitem_multilevel(key)\n\u001b[32m-> \u001b[39m\u001b[32m4102\u001b[39m indexer = \u001b[38;5;28;43mself\u001b[39;49m\u001b[43m.\u001b[49m\u001b[43mcolumns\u001b[49m\u001b[43m.\u001b[49m\u001b[43mget_loc\u001b[49m\u001b[43m(\u001b[49m\u001b[43mkey\u001b[49m\u001b[43m)\u001b[49m\n\u001b[32m   4103\u001b[39m \u001b[38;5;28;01mif\u001b[39;00m is_integer(indexer):\n\u001b[32m   4104\u001b[39m     indexer = [indexer]\n",
      "\u001b[36mFile \u001b[39m\u001b[32md:\\0Awork\\Envs\\FinRL\\Lib\\site-packages\\pandas\\core\\indexes\\base.py:3812\u001b[39m, in \u001b[36mIndex.get_loc\u001b[39m\u001b[34m(self, key)\u001b[39m\n\u001b[32m   3807\u001b[39m     \u001b[38;5;28;01mif\u001b[39;00m \u001b[38;5;28misinstance\u001b[39m(casted_key, \u001b[38;5;28mslice\u001b[39m) \u001b[38;5;129;01mor\u001b[39;00m (\n\u001b[32m   3808\u001b[39m         \u001b[38;5;28misinstance\u001b[39m(casted_key, abc.Iterable)\n\u001b[32m   3809\u001b[39m         \u001b[38;5;129;01mand\u001b[39;00m \u001b[38;5;28many\u001b[39m(\u001b[38;5;28misinstance\u001b[39m(x, \u001b[38;5;28mslice\u001b[39m) \u001b[38;5;28;01mfor\u001b[39;00m x \u001b[38;5;129;01min\u001b[39;00m casted_key)\n\u001b[32m   3810\u001b[39m     ):\n\u001b[32m   3811\u001b[39m         \u001b[38;5;28;01mraise\u001b[39;00m InvalidIndexError(key)\n\u001b[32m-> \u001b[39m\u001b[32m3812\u001b[39m     \u001b[38;5;28;01mraise\u001b[39;00m \u001b[38;5;167;01mKeyError\u001b[39;00m(key) \u001b[38;5;28;01mfrom\u001b[39;00m\u001b[38;5;250m \u001b[39m\u001b[34;01merr\u001b[39;00m\n\u001b[32m   3813\u001b[39m \u001b[38;5;28;01mexcept\u001b[39;00m \u001b[38;5;167;01mTypeError\u001b[39;00m:\n\u001b[32m   3814\u001b[39m     \u001b[38;5;66;03m# If we have a listlike key, _check_indexing_error will raise\u001b[39;00m\n\u001b[32m   3815\u001b[39m     \u001b[38;5;66;03m#  InvalidIndexError. Otherwise we fall through and re-raise\u001b[39;00m\n\u001b[32m   3816\u001b[39m     \u001b[38;5;66;03m#  the TypeError.\u001b[39;00m\n\u001b[32m   3817\u001b[39m     \u001b[38;5;28mself\u001b[39m._check_indexing_error(key)\n",
      "\u001b[31mKeyError\u001b[39m: 'time'"
     ]
    }
   ],
   "source": [
    "daily_return = plotter.get_return(df_account_value)\n",
    "daily_return_base = plotter.get_return(baseline_df, value_col_name=\"close\")\n",
    "\n",
    "perf_func = timeseries.perf_stats \n",
    "perf_stats_all = perf_func(returns=daily_return, factor_returns=daily_return_base, positions=None, transactions=None, turnover_denom=\"AGB\")\n",
    "print(\"==============DRL Strategy Stats===========\")\n",
    "print(f\"perf_stats_all: {perf_stats_all}\")"
   ]
  },
  {
   "cell_type": "code",
   "execution_count": 24,
   "id": "6J0LpdE7YuQe",
   "metadata": {
    "id": "6J0LpdE7YuQe"
   },
   "outputs": [
    {
     "ename": "KeyError",
     "evalue": "'time'",
     "output_type": "error",
     "traceback": [
      "\u001b[31m---------------------------------------------------------------------------\u001b[39m",
      "\u001b[31mKeyError\u001b[39m                                  Traceback (most recent call last)",
      "\u001b[36mFile \u001b[39m\u001b[32md:\\0Awork\\Envs\\FinRL\\Lib\\site-packages\\pandas\\core\\indexes\\base.py:3805\u001b[39m, in \u001b[36mIndex.get_loc\u001b[39m\u001b[34m(self, key)\u001b[39m\n\u001b[32m   3804\u001b[39m \u001b[38;5;28;01mtry\u001b[39;00m:\n\u001b[32m-> \u001b[39m\u001b[32m3805\u001b[39m     \u001b[38;5;28;01mreturn\u001b[39;00m \u001b[38;5;28;43mself\u001b[39;49m\u001b[43m.\u001b[49m\u001b[43m_engine\u001b[49m\u001b[43m.\u001b[49m\u001b[43mget_loc\u001b[49m\u001b[43m(\u001b[49m\u001b[43mcasted_key\u001b[49m\u001b[43m)\u001b[49m\n\u001b[32m   3806\u001b[39m \u001b[38;5;28;01mexcept\u001b[39;00m \u001b[38;5;167;01mKeyError\u001b[39;00m \u001b[38;5;28;01mas\u001b[39;00m err:\n",
      "\u001b[36mFile \u001b[39m\u001b[32mindex.pyx:167\u001b[39m, in \u001b[36mpandas._libs.index.IndexEngine.get_loc\u001b[39m\u001b[34m()\u001b[39m\n",
      "\u001b[36mFile \u001b[39m\u001b[32mindex.pyx:196\u001b[39m, in \u001b[36mpandas._libs.index.IndexEngine.get_loc\u001b[39m\u001b[34m()\u001b[39m\n",
      "\u001b[36mFile \u001b[39m\u001b[32mpandas\\\\_libs\\\\hashtable_class_helper.pxi:7081\u001b[39m, in \u001b[36mpandas._libs.hashtable.PyObjectHashTable.get_item\u001b[39m\u001b[34m()\u001b[39m\n",
      "\u001b[36mFile \u001b[39m\u001b[32mpandas\\\\_libs\\\\hashtable_class_helper.pxi:7089\u001b[39m, in \u001b[36mpandas._libs.hashtable.PyObjectHashTable.get_item\u001b[39m\u001b[34m()\u001b[39m\n",
      "\u001b[31mKeyError\u001b[39m: 'time'",
      "\nThe above exception was the direct cause of the following exception:\n",
      "\u001b[31mKeyError\u001b[39m                                  Traceback (most recent call last)",
      "\u001b[36mCell\u001b[39m\u001b[36m \u001b[39m\u001b[32mIn[24]\u001b[39m\u001b[32m, line 1\u001b[39m\n\u001b[32m----> \u001b[39m\u001b[32m1\u001b[39m daily_return = \u001b[43mplotter\u001b[49m\u001b[43m.\u001b[49m\u001b[43mget_return\u001b[49m\u001b[43m(\u001b[49m\u001b[43mdf_account_value\u001b[49m\u001b[43m)\u001b[49m\n\u001b[32m      2\u001b[39m daily_return_base = plotter.get_return(baseline_df, value_col_name=\u001b[33m\"\u001b[39m\u001b[33mclose\u001b[39m\u001b[33m\"\u001b[39m)\n\u001b[32m      4\u001b[39m perf_func = timeseries.perf_stats\n",
      "\u001b[36mFile \u001b[39m\u001b[32md:\\0awork\\finrl\\finrl-meta\\meta\\data_processors\\tushare.py:390\u001b[39m, in \u001b[36mReturnPlotter.get_return\u001b[39m\u001b[34m(self, df, value_col_name)\u001b[39m\n\u001b[32m    388\u001b[39m df = copy.deepcopy(df)\n\u001b[32m    389\u001b[39m df[\u001b[33m\"\u001b[39m\u001b[33mdaily_return\u001b[39m\u001b[33m\"\u001b[39m] = df[value_col_name].pct_change(\u001b[32m1\u001b[39m)\n\u001b[32m--> \u001b[39m\u001b[32m390\u001b[39m df[\u001b[33m\"\u001b[39m\u001b[33mtime\u001b[39m\u001b[33m\"\u001b[39m] = pd.to_datetime(\u001b[43mdf\u001b[49m\u001b[43m[\u001b[49m\u001b[33;43m\"\u001b[39;49m\u001b[33;43mtime\u001b[39;49m\u001b[33;43m\"\u001b[39;49m\u001b[43m]\u001b[49m, \u001b[38;5;28mformat\u001b[39m=\u001b[33m\"\u001b[39m\u001b[33m%\u001b[39m\u001b[33mY-\u001b[39m\u001b[33m%\u001b[39m\u001b[33mm-\u001b[39m\u001b[38;5;132;01m%d\u001b[39;00m\u001b[33m\"\u001b[39m)\n\u001b[32m    391\u001b[39m df.set_index(\u001b[33m\"\u001b[39m\u001b[33mtime\u001b[39m\u001b[33m\"\u001b[39m, inplace=\u001b[38;5;28;01mTrue\u001b[39;00m, drop=\u001b[38;5;28;01mTrue\u001b[39;00m)\n\u001b[32m    392\u001b[39m df.index = df.index.tz_localize(\u001b[33m\"\u001b[39m\u001b[33mUTC\u001b[39m\u001b[33m\"\u001b[39m)\n",
      "\u001b[36mFile \u001b[39m\u001b[32md:\\0Awork\\Envs\\FinRL\\Lib\\site-packages\\pandas\\core\\frame.py:4102\u001b[39m, in \u001b[36mDataFrame.__getitem__\u001b[39m\u001b[34m(self, key)\u001b[39m\n\u001b[32m   4100\u001b[39m \u001b[38;5;28;01mif\u001b[39;00m \u001b[38;5;28mself\u001b[39m.columns.nlevels > \u001b[32m1\u001b[39m:\n\u001b[32m   4101\u001b[39m     \u001b[38;5;28;01mreturn\u001b[39;00m \u001b[38;5;28mself\u001b[39m._getitem_multilevel(key)\n\u001b[32m-> \u001b[39m\u001b[32m4102\u001b[39m indexer = \u001b[38;5;28;43mself\u001b[39;49m\u001b[43m.\u001b[49m\u001b[43mcolumns\u001b[49m\u001b[43m.\u001b[49m\u001b[43mget_loc\u001b[49m\u001b[43m(\u001b[49m\u001b[43mkey\u001b[49m\u001b[43m)\u001b[49m\n\u001b[32m   4103\u001b[39m \u001b[38;5;28;01mif\u001b[39;00m is_integer(indexer):\n\u001b[32m   4104\u001b[39m     indexer = [indexer]\n",
      "\u001b[36mFile \u001b[39m\u001b[32md:\\0Awork\\Envs\\FinRL\\Lib\\site-packages\\pandas\\core\\indexes\\base.py:3812\u001b[39m, in \u001b[36mIndex.get_loc\u001b[39m\u001b[34m(self, key)\u001b[39m\n\u001b[32m   3807\u001b[39m     \u001b[38;5;28;01mif\u001b[39;00m \u001b[38;5;28misinstance\u001b[39m(casted_key, \u001b[38;5;28mslice\u001b[39m) \u001b[38;5;129;01mor\u001b[39;00m (\n\u001b[32m   3808\u001b[39m         \u001b[38;5;28misinstance\u001b[39m(casted_key, abc.Iterable)\n\u001b[32m   3809\u001b[39m         \u001b[38;5;129;01mand\u001b[39;00m \u001b[38;5;28many\u001b[39m(\u001b[38;5;28misinstance\u001b[39m(x, \u001b[38;5;28mslice\u001b[39m) \u001b[38;5;28;01mfor\u001b[39;00m x \u001b[38;5;129;01min\u001b[39;00m casted_key)\n\u001b[32m   3810\u001b[39m     ):\n\u001b[32m   3811\u001b[39m         \u001b[38;5;28;01mraise\u001b[39;00m InvalidIndexError(key)\n\u001b[32m-> \u001b[39m\u001b[32m3812\u001b[39m     \u001b[38;5;28;01mraise\u001b[39;00m \u001b[38;5;167;01mKeyError\u001b[39;00m(key) \u001b[38;5;28;01mfrom\u001b[39;00m\u001b[38;5;250m \u001b[39m\u001b[34;01merr\u001b[39;00m\n\u001b[32m   3813\u001b[39m \u001b[38;5;28;01mexcept\u001b[39;00m \u001b[38;5;167;01mTypeError\u001b[39;00m:\n\u001b[32m   3814\u001b[39m     \u001b[38;5;66;03m# If we have a listlike key, _check_indexing_error will raise\u001b[39;00m\n\u001b[32m   3815\u001b[39m     \u001b[38;5;66;03m#  InvalidIndexError. Otherwise we fall through and re-raise\u001b[39;00m\n\u001b[32m   3816\u001b[39m     \u001b[38;5;66;03m#  the TypeError.\u001b[39;00m\n\u001b[32m   3817\u001b[39m     \u001b[38;5;28mself\u001b[39m._check_indexing_error(key)\n",
      "\u001b[31mKeyError\u001b[39m: 'time'"
     ]
    }
   ],
   "source": [
    "daily_return = plotter.get_return(df_account_value)\n",
    "daily_return_base = plotter.get_return(baseline_df, value_col_name=\"close\")\n",
    "\n",
    "perf_func = timeseries.perf_stats\n",
    "perf_stats_all = perf_func(returns=daily_return_base, factor_returns=daily_return_base, positions=None, transactions=None, turnover_denom=\"AGB\")\n",
    "\n",
    "print(\"==============Baseline Strategy Stats===========\")\n",
    "\n",
    "print(f\"perf_stats_all: {perf_stats_all}\")"
   ]
  }
 ],
 "metadata": {
  "colab": {
   "collapsed_sections": [],
   "name": "China_A_share_market_tushare.ipynb",
   "provenance": []
  },
  "kernelspec": {
   "display_name": "FinRL",
   "language": "python",
   "name": "python3"
  },
  "language_info": {
   "codemirror_mode": {
    "name": "ipython",
    "version": 3
   },
   "file_extension": ".py",
   "mimetype": "text/x-python",
   "name": "python",
   "nbconvert_exporter": "python",
   "pygments_lexer": "ipython3",
   "version": "3.11.11"
  },
  "latex_envs": {
   "LaTeX_envs_menu_present": true,
   "autoclose": false,
   "autocomplete": true,
   "bibliofile": "biblio.bib",
   "cite_by": "apalike",
   "current_citInitial": 1,
   "eqLabelWithNumbers": true,
   "eqNumInitial": 1,
   "hotkeys": {
    "equation": "Ctrl-E",
    "itemize": "Ctrl-I"
   },
   "labels_anchors": false,
   "latex_user_defs": false,
   "report_style_numbering": false,
   "user_envs_cfg": false
  },
  "notify_time": "5",
  "varInspector": {
   "cols": {
    "lenName": 16,
    "lenType": 16,
    "lenVar": 40
   },
   "kernels_config": {
    "python": {
     "delete_cmd_postfix": "",
     "delete_cmd_prefix": "del ",
     "library": "var_list.py",
     "varRefreshCmd": "print(var_dic_list())"
    },
    "r": {
     "delete_cmd_postfix": ") ",
     "delete_cmd_prefix": "rm(",
     "library": "var_list.r",
     "varRefreshCmd": "cat(var_dic_list()) "
    }
   },
   "types_to_exclude": [
    "module",
    "function",
    "builtin_function_or_method",
    "instance",
    "_Feature"
   ],
   "window_display": false
  }
 },
 "nbformat": 4,
 "nbformat_minor": 5
}
